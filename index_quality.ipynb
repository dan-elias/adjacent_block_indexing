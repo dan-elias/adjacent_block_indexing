{
 "cells": [
  {
   "cell_type": "markdown",
   "metadata": {},
   "source": [
    "# Examples for final report"
   ]
  },
  {
   "cell_type": "markdown",
   "metadata": {},
   "source": [
    "## Imports"
   ]
  },
  {
   "cell_type": "code",
   "execution_count": null,
   "metadata": {
    "collapsed": true
   },
   "outputs": [],
   "source": [
    "from contextlib import suppress\n",
    "from itertools import product\n",
    "from functools import partial, reduce\n",
    "import pathlib\n",
    "import numpy as np\n",
    "import pandas as pd\n",
    "import recordlinkage as rl\n",
    "\n",
    "from scipy.optimize import bisect\n",
    "import statsmodels.api as sm\n",
    "\n",
    "import matplotlib.pyplot as plt\n",
    "import seaborn as sns\n",
    "\n",
    "from neighbourhood_blocking import NeighbourhoodBlockIndex\n",
    "\n",
    "%matplotlib inline\n",
    "sns.set_style('white')"
   ]
  },
  {
   "cell_type": "markdown",
   "metadata": {},
   "source": [
    "## Settings"
   ]
  },
  {
   "cell_type": "code",
   "execution_count": null,
   "metadata": {
    "collapsed": true
   },
   "outputs": [],
   "source": [
    "tradeoff_stats_file = pathlib.Path('../data/cache/experiments/tradeoff_stats_generated.pickle')\n",
    "tradeoff_stats_file.parent.mkdir(parents=True, exist_ok=True)"
   ]
  },
  {
   "cell_type": "markdown",
   "metadata": {},
   "source": [
    "## Example points"
   ]
  },
  {
   "cell_type": "code",
   "execution_count": null,
   "metadata": {
    "collapsed": true
   },
   "outputs": [],
   "source": [
    "def sample_dataset_and_true_matches(n_base=500, n_perturbations=1, n_columns=5, null_proportion=0.01):\n",
    "    np.random.seed(1)\n",
    "    axis_names = ['dim_{}'.format(n) for n in range(1, n_columns+1)]\n",
    "    def random_ordinates(random_func, scale=1):\n",
    "        return pd.DataFrame(data=random_func(n_base, n_columns)*scale, columns=axis_names)\n",
    "    base_points = random_ordinates(np.random.rand, 1)\n",
    "    points = pd.concat([base_points] + [base_points + random_ordinates(np.random.randn, 0.01) for _ in range(n_perturbations)]\n",
    "                       , ignore_index=True)\n",
    "    points.index = ['point_{n}'.format(**locals()) for n in range(len(points))]\n",
    "    true_matches = pd.MultiIndex.from_arrays(arrays=points.index.values.reshape(n_perturbations + 1,-1), names=['p1', 'p2'])\n",
    "    def with_random_nulls(df, null_proportion, inplace=False):\n",
    "        rows, cols = [a.flatten() for a in np.meshgrid(np.arange(len(df)), np.arange(len(df.columns)))]\n",
    "        ndx_nulls = np.random.choice(np.arange(len(rows)), size=int(null_proportion*len(rows)), replace=False)\n",
    "        result = df if inplace else df.copy()\n",
    "        result.values[rows[ndx_nulls], cols[ndx_nulls]] = np.nan\n",
    "        return result\n",
    "    points = with_random_nulls(points, null_proportion=null_proportion, inplace=True)\n",
    "    return points, true_matches\n",
    "points, true_matches = sample_dataset_and_true_matches()"
   ]
  },
  {
   "cell_type": "code",
   "execution_count": null,
   "metadata": {
    "collapsed": true
   },
   "outputs": [],
   "source": [
    "stats = pd.DataFrame()\n",
    "indices = {}\n",
    "full_index_size = rl.max_pairs(points)\n",
    "stats.index.name = 'index_method'\n",
    "def index_performance_stats(ndx):\n",
    "    def normalized_index(ndx):\n",
    "        ascending = ndx.get_level_values(0) < ndx.get_level_values(1)\n",
    "        return ndx[ascending] | ndx.reorder_levels([1,0])[~ascending]\n",
    "    norm_ndx = normalized_index(ndx)\n",
    "    norm_true = normalized_index(true_matches)\n",
    "    norm_common = norm_ndx & norm_true\n",
    "    return {'recall': len(norm_common) / len(norm_true),\n",
    "            'specificity': len(norm_common) / (len(norm_ndx) or 1),\n",
    "            'reduction_ratio': 1 - (len(norm_ndx) / full_index_size)}\n",
    "def record_index(label, index, index_type=None, axes=None):\n",
    "    indices[label] = index\n",
    "    stats.loc[label, 'pair_count'] = len(index)\n",
    "    stats.loc[label, 'index_type'] = index_type or ''\n",
    "    stats.loc[label, 'axes'] = str(axes or '')\n",
    "    for k, v in sorted(index_performance_stats(index).items()):\n",
    "        stats.loc[label, k] = v\n",
    "all_pairs_label = 'All pairs'\n",
    "record_index('True matches', true_matches, 'true')\n",
    "record_index(all_pairs_label, rl.FullIndex().index(points), rl.FullIndex.__name__)"
   ]
  },
  {
   "cell_type": "code",
   "execution_count": null,
   "metadata": {
    "collapsed": true
   },
   "outputs": [],
   "source": [
    "def plot_points(row_width=None, col_width=None, ax=None):\n",
    "    if ax is None: ax = plt.gca()\n",
    "    for col_name, lim_fun, div_width, line_fun in zip(points.columns, [ax.set_xlim, ax.set_ylim], [col_width, row_width], [ax.axvline, ax.axhline]):\n",
    "        col = points[col_name]\n",
    "        lo, hi = col.min(), col.max()\n",
    "        lim_fun(lo, hi)\n",
    "        if div_width:\n",
    "            ordinates = np.arange(lo, hi, div_width)\n",
    "            if len(ordinates) < 50:\n",
    "                for ordinate in ordinates:\n",
    "                    line_fun(ordinate, color='grey')\n",
    "    if row_width or col_width:\n",
    "        def block_status(axis_name, width):\n",
    "            return np.floor((points[axis_name] - points[axis_name].min())/width) % 2 if (width>0) else 0\n",
    "        highlighted = block_status(points.columns[0], col_width) == block_status(points.columns[1], row_width)\n",
    "        sections = [points.loc[ndx, :] for ndx in [highlighted, ~highlighted]]\n",
    "    else:\n",
    "        sections = [points]\n",
    "    for section in sections:\n",
    "        sns.regplot(*list(points.columns)[:2], data=section, fit_reg=False, marker='.', ax=ax)"
   ]
  },
  {
   "cell_type": "markdown",
   "metadata": {},
   "source": [
    "### Distance frequencies"
   ]
  },
  {
   "cell_type": "code",
   "execution_count": null,
   "metadata": {},
   "outputs": [],
   "source": [
    "def distances_from_index(index):\n",
    "    ordinates = points\n",
    "    index_values = index.to_frame().values\n",
    "    diffs = ordinates.loc[index_values[:,0],:].values - ordinates.loc[index_values[:,1],:].values\n",
    "    return np.sqrt(np.sum(diffs * diffs, axis=1))\n",
    "to_plot = distances_from_index(indices[all_pairs_label])\n",
    "fig, axs = plt.subplots(figsize=(15,5), nrows=1, ncols=2)\n",
    "detail_proportion = 0.01\n",
    "for (title, dists), ax in zip([('All point pairs', to_plot), ('Nearest {:.0%} of point pairs'.format(detail_proportion), np.sort(to_plot)[:1+int(detail_proportion * len(to_plot))])], axs.flatten()):\n",
    "    sns.distplot(dists[~np.isnan(dists)], ax=ax, kde=False)\n",
    "    ax.set_title(title); ax.set_xlabel('distance'), ax.set_ylabel('frequency')\n",
    "plt.suptitle('Pairwise distance distributions (excluding nulls)')\n",
    "plt.show();"
   ]
  },
  {
   "cell_type": "markdown",
   "metadata": {},
   "source": [
    "## Blocking comparison"
   ]
  },
  {
   "cell_type": "code",
   "execution_count": null,
   "metadata": {
    "collapsed": true
   },
   "outputs": [],
   "source": [
    "def solved_index_param(index_getter, target_recall, x_min, x_max):\n",
    "    def recall_error(x):\n",
    "        return target_recall - index_performance_stats(index_getter(x))['recall']\n",
    "    return bisect(recall_error, x_min, x_max)"
   ]
  },
  {
   "cell_type": "code",
   "execution_count": null,
   "metadata": {},
   "outputs": [],
   "source": [
    "def block_index(index_type, axis_names, block_size, **kwargs):\n",
    "    blocks = pd.DataFrame({axis_name: np.floor((points[axis_name] - points[axis_name].min()) / block_size)\n",
    "                          for axis_name in axis_names})\n",
    "    return index_type(on=list(blocks.columns), **kwargs).index(blocks)\n",
    "\n",
    "def get_block_size(index_type, axis_names, target_recall, max_blocks=1000):\n",
    "    max_size = points.max().max() - points.min().min()\n",
    "    return solved_index_param(index_getter=partial(block_index, index_type, axis_names), target_recall=target_recall, x_min=max_size/max_blocks, x_max=max_size)\n",
    "\n",
    "axis_names_2d = list(points.columns)[:2]\n",
    "target_recall = 0.9\n",
    "index_types = [rl.BlockIndex, NeighbourhoodBlockIndex]\n",
    "fig, axs = plt.subplots(figsize=(15,5*len(index_types)), nrows=len(index_types), ncols=len(axis_names_2d)+1)\n",
    "for (index_type, current_axis_names), ax in zip(product(index_types, [[nm] for nm in axis_names_2d] + [axis_names_2d]), axs.flatten()):\n",
    "    ax.set_color_cycle(None)\n",
    "    block_size = get_block_size(index_type=index_type, axis_names=current_axis_names, target_recall=target_recall)\n",
    "    label = '{index_type.__name__}({current_axis_names}, {block_size:.2f})'.format(**locals())\n",
    "    record_index(label, block_index(index_type=index_type, axis_names=current_axis_names, block_size=block_size), \n",
    "                 index_type.__name__, current_axis_names)\n",
    "    plot_points(*list(reversed(list((block_size if nm in current_axis_names else 0) for nm in axis_names_2d))), ax=ax)\n",
    "    ax.set_title(label)\n",
    "plt.suptitle('Blocking comparison (target recall = {target_recall})'.format(**locals()))\n",
    "plt.show();"
   ]
  },
  {
   "cell_type": "markdown",
   "metadata": {},
   "source": [
    "## Sorted neighbourhood"
   ]
  },
  {
   "cell_type": "code",
   "execution_count": null,
   "metadata": {},
   "outputs": [],
   "source": [
    "def smallest_integer_param(index_getter, min_recall, initial_guess=1, min_value=0, upward_sloping=True):\n",
    "    bounds = [min_value, None]\n",
    "    current_guess = initial_guess\n",
    "    while (bounds[1] is None) or (bounds[1]-bounds[0] > 1):\n",
    "        bounds[((index_performance_stats(index_getter(current_guess))['recall'] > min_recall) == upward_sloping) * 1] = current_guess\n",
    "        current_guess = bounds[0] * 2 if bounds[1] is None else sum(bounds) // 2\n",
    "    return bounds[upward_sloping * 1]\n",
    "\n",
    "def sorted_neighbourhood_index(axis_name, window):\n",
    "    return rl.SortedNeighbourhoodIndex(on=axis_name, window=window).index(points)\n",
    "\n",
    "def get_sorted_neighbourhood_window(axis_name, min_recall=0.95, initial_guess=5):\n",
    "    def window(half_window):\n",
    "        return 1 + 2 * half_window\n",
    "    half_window = smallest_integer_param(index_getter = (lambda half_window: sorted_neighbourhood_index(axis_name=axis_name, window=window(half_window))),\n",
    "                                         min_recall = min_recall, initial_guess = max([1, initial_guess // 2]),\n",
    "                                         upward_sloping=True)\n",
    "    return window(half_window)\n",
    "\n",
    "axis_name = points.columns[0]\n",
    "window = get_sorted_neighbourhood_window(axis_name=axis_name, min_recall=target_recall)\n",
    "record_index('SortedNeighbourhood({axis_name}, {window})'.format(**locals()), sorted_neighbourhood_index(axis_name, window), \n",
    "             rl.SortedNeighbourhoodIndex.__name__, [axis_name])\n",
    "plt.figure(figsize=(15,5))\n",
    "plot_points()\n",
    "sorted_ordinates = points[points.columns[:2]].sort_values(axis_name).values\n",
    "plt.plot(*sorted_ordinates.T, color='#cccccc')\n",
    "n_points = 100\n",
    "plt.gca().set_xlim(0, sorted_ordinates[n_points-1,0])\n",
    "plt.title('Sorted neighbourhood indexing order: first {n_points} points'.format(**locals()))\n",
    "plt.xlabel('{} - truncated scale'.format(axis_name))\n",
    "plt.show();"
   ]
  },
  {
   "cell_type": "markdown",
   "metadata": {
    "collapsed": true
   },
   "source": [
    "## Statistics"
   ]
  },
  {
   "cell_type": "code",
   "execution_count": null,
   "metadata": {},
   "outputs": [],
   "source": [
    "pivoted_stats = stats.set_index(['index_type', 'axes']).unstack('axes')\n",
    "pivoted_stats.style.format(lambda x: '' if pd.isnull(x) else (format(int(x), ',') if (x-int(x) == 0) else str(x)))"
   ]
  },
  {
   "cell_type": "markdown",
   "metadata": {
    "collapsed": true
   },
   "source": [
    "## Recall - reduction ratio tradeoff"
   ]
  },
  {
   "cell_type": "code",
   "execution_count": null,
   "metadata": {
    "collapsed": true
   },
   "outputs": [],
   "source": [
    "from itertools import combinations, chain\n",
    "\n",
    "def all_combinations(iterable, min_r=0, max_r=None):\n",
    "    all_elems = list(iterable)\n",
    "    return chain.from_iterable(combinations(all_elems, r) for r in range(max([int(min_r), 0]), min([len(all_elems), int(len(all_elems) if max_r is None else max_r)])+1))\n",
    "def example_combinations(iterable, min_r=0, max_r=None):\n",
    "    all_elems = list(iterable)\n",
    "    return (all_elems[:r] for r in range(max([int(min_r), 0]), min([len(all_elems), int(len(all_elems) if max_r is None else max_r)])+1))"
   ]
  },
  {
   "cell_type": "code",
   "execution_count": null,
   "metadata": {
    "collapsed": true
   },
   "outputs": [],
   "source": [
    "from operator import mul\n",
    "\n",
    "def total_boundary_size(axis_discretization_intervals, points):\n",
    "    axis_lengths = {col: (vals.max() - vals.min()) for col, vals in points.iteritems()}\n",
    "    length_product = reduce(mul, axis_lengths.values(), 1)\n",
    "    return sum(length_product / axis_lengths[axis] * int(axis_lengths[axis] / interval) \n",
    "               for axis, interval in axis_discretization_intervals.items()\n",
    "               if interval)"
   ]
  },
  {
   "cell_type": "code",
   "execution_count": null,
   "metadata": {},
   "outputs": [],
   "source": [
    "import datetime\n",
    "start_time = datetime.datetime.now()\n",
    "exhaustive = False\n",
    "combinations_to_use = all_combinations if exhaustive else example_combinations\n",
    "tradeoff_stats = pd.DataFrame()\n",
    "ordinate_range = points.max().max() - points.min().min()\n",
    "#for n_blocks in [1, 1.1, 1.2, 1.3, 1.4, 1.5, 1.7, 2, 3, 4, 5, 7, 10, 15, 20, 30, 40, 50, 70, 100, 150, 200, 300, 400, 500, 700, 1000]:\n",
    "for n_blocks in [1, 2, 5, 10, 20, 50, 100, 200, 500, 1000]:\n",
    "    print(n_blocks, end=' ')\n",
    "    block_size = ordinate_range / n_blocks\n",
    "    for index_desc, cols in product([#rl.FullIndex,\n",
    "                                     rl.SortedNeighbourhoodIndex, \n",
    "                                     rl.BlockIndex, \n",
    "                                     NeighbourhoodBlockIndex, \n",
    "                                     (NeighbourhoodBlockIndex, {'max_nulls': 1}), \n",
    "                                     (NeighbourhoodBlockIndex, {'max_nulls': 2}),\n",
    "                                    ], \n",
    "                                    combinations_to_use(points.columns, min_r=1)):\n",
    "        index_type, index_kwargs = index_desc if isinstance(index_desc, tuple) else (index_desc, {})\n",
    "        ndx_start_time = datetime.datetime.now()\n",
    "        if index_type is rl.SortedNeighbourhoodIndex:\n",
    "            if len(cols) > 1:\n",
    "                continue\n",
    "            param = 1 + 2*int(len(points) / n_blocks / 2)\n",
    "            ndx = sorted_neighbourhood_index(axis_name=cols[0], window=param, **index_kwargs)\n",
    "        elif index_type is rl.FullIndex:\n",
    "            param = None\n",
    "            ndx = index_type().index(points)\n",
    "        else:\n",
    "            param = block_size\n",
    "            ndx = block_index(index_type=index_type, axis_names=cols, block_size=block_size, **index_kwargs)\n",
    "        kwargs_repr = ', '.join([''] + ['{k}={v}'.format(**locals()) for k, v in sorted(index_kwargs.items())])\n",
    "        label = '{index_type.__name__}({cols}, {param}{kwargs_repr})'.format(**locals())\n",
    "        tradeoff_stats.loc[label, 'time'] = datetime.datetime.now() - ndx_start_time\n",
    "        tradeoff_stats.loc[label, 'method'] = '{index_type.__name__} - {cols}{kwargs_repr}'.format(**locals())\n",
    "        tradeoff_stats.loc[label, 'param'] = param\n",
    "        tradeoff_stats.loc[label, 'n_pairs'] = len(ndx)\n",
    "        tradeoff_stats.loc[label, 'dimensionality'] = len(cols)\n",
    "        tradeoff_stats.loc[label, 'cls'] = index_type.__name__\n",
    "        for k, v in index_kwargs.items():\n",
    "            tradeoff_stats.loc[label, k] = v\n",
    "        if index_type is rl.BlockIndex:\n",
    "            tradeoff_stats.loc[label, 'total_boundary_size'] = total_boundary_size(axis_discretization_intervals={c: param for c in cols}, points=points)\n",
    "        for k, v in index_performance_stats(ndx).items():\n",
    "            tradeoff_stats.loc[label, k] = v\n",
    "tradeoff_stats['dimensionality'] = tradeoff_stats['dimensionality'].astype(int)\n",
    "print('elapsed: {}'.format(datetime.datetime.now() - start_time))"
   ]
  },
  {
   "cell_type": "code",
   "execution_count": null,
   "metadata": {},
   "outputs": [],
   "source": [
    "block_size = ordinate_range / 400\n",
    "cols = points.columns\n",
    "start_time = datetime.datetime.now()\n",
    "ndx = block_index(index_type=NeighbourhoodBlockIndex, axis_names=cols, block_size=block_size)\n",
    "print(datetime.datetime.now() - start_time)"
   ]
  },
  {
   "cell_type": "code",
   "execution_count": null,
   "metadata": {
    "collapsed": true
   },
   "outputs": [],
   "source": [
    "tradeoff_stats.to_pickle(str(tradeoff_stats_file))"
   ]
  },
  {
   "cell_type": "code",
   "execution_count": null,
   "metadata": {
    "scrolled": false
   },
   "outputs": [],
   "source": [
    "axis_vars = ['reduction_ratio', 'recall']\n",
    "method_descriptions = {'BlockIndex': 'Standard',\n",
    "                       'SortedNeighbourhoodIndex': 'Sorted N\\'hood',\n",
    "                       'NeighbourhoodBlockIndex': 'Neighbourhood',\n",
    "                      }\n",
    "markers = {('BlockIndex', None): ('s', 7),\n",
    "           ('SortedNeighbourhoodIndex', None): ('o', 5),\n",
    "           ('NeighbourhoodBlockIndex', None): ('$0$', 10),\n",
    "           ('NeighbourhoodBlockIndex', 1): ('$1$', 10),\n",
    "           ('NeighbourhoodBlockIndex', 2): ('$2$', 10),\n",
    "           }\n",
    "\n",
    "distinct_dimensionalities = sorted(tradeoff_stats['dimensionality'].unique())\n",
    "for dimensionality, ax in zip(distinct_dimensionalities, axs.flatten()):\n",
    "    plt.figure(figsize=(7,7))\n",
    "    ax = plt.gca()\n",
    "    stats_for_dimensionality = tradeoff_stats[tradeoff_stats['dimensionality'] == dimensionality]\n",
    "    for mth in np.sort(stats_for_dimensionality['method'].unique()):\n",
    "        sorted_points = tradeoff_stats[tradeoff_stats['method'] == mth].sort_values('param')\n",
    "        cls_name = sorted_points['cls'].iloc[0]\n",
    "        description = method_descriptions[cls_name]\n",
    "        max_nulls = sorted_points['max_nulls'].iloc[0]\n",
    "        if max_nulls > 1:#dimensionality:\n",
    "            continue\n",
    "        max_nulls_repr = '' if pd.isnull(max_nulls) else ' ({} null{})'.format(int(max_nulls), '' if max_nulls == 1 else 's')\n",
    "        label = '{description}{max_nulls_repr}'.format(**locals())\n",
    "        marker, markersize = markers[(cls_name, None if pd.isnull(max_nulls) else int(max_nulls))]\n",
    "        #linestyle='None'\n",
    "        linestyle='-'\n",
    "        ax.plot(*[sorted_points[col].values for col in axis_vars], color='grey', linestyle=linestyle, marker=marker, markersize=markersize, label=label)\n",
    "    ax.legend(loc='lower left')\n",
    "    ax.set_xlabel(axis_vars[0]); ax.set_ylabel(axis_vars[1])\n",
    "    ax.set_ylim(0.5, 1.05)\n",
    "    ax.set_xlim(0.5, 1.05)\n",
    "    ax.set_xlabel('Reduction ratio (truncated)'); ax.set_ylabel('Recall (truncated)')\n",
    "    #ax.set_title('{dimensionality} blocking key{s}'.format(s='' if dimensionality == 1 else 's', **locals()))\n",
    "    print(dimensionality)\n",
    "    plt.show()"
   ]
  },
  {
   "cell_type": "code",
   "execution_count": null,
   "metadata": {},
   "outputs": [],
   "source": [
    "def plot_vs_total_boundary_size(stat_name, xlims=None, ylims=None):\n",
    "    to_plot = tradeoff_stats[~tradeoff_stats['total_boundary_size'].isnull()]\n",
    "    legend_title = 'Number of blocking keys'\n",
    "    to_plot[legend_title] = to_plot['dimensionality']\n",
    "    #sns.lmplot(x='total_boundary_size', y=stat_name, hue=legend_title, data=to_plot, fit_reg=False, size=5, legend_out=False)\n",
    "    plt.figure(figsize=(7,7))\n",
    "    ax = plt.gca()\n",
    "    marker_types = np.array(['o', 's', '^', '1', 'P', '*'])\n",
    "    for ndx, (marker, dimensionality) in enumerate(zip(marker_types, to_plot['dimensionality'].unique())):\n",
    "        rows = to_plot['dimensionality'] == dimensionality\n",
    "        ax.scatter(to_plot['total_boundary_size'][rows], to_plot[stat_name][rows], marker=marker, color='grey', label=str(dimensionality))\n",
    "    plt.legend(title='Number of blocking keys')\n",
    "    for lims, meth in [(xlims, ax.set_xlim), (ylims, ax.set_ylim)]:\n",
    "        if lims:\n",
    "            meth(*lims)\n",
    "    #ax.set_title('Standard Blocking: {stat_name} vs total boundary size'.format(**locals()))\n",
    "    ax.set_xlabel('Total boundary size'), ax.set_ylabel(stat_name.title())\n",
    "    plt.show()\n",
    "max_boundary_size = 100\n",
    "plot_vs_total_boundary_size('recall', xlims=(0, max_boundary_size), ylims=(0, 1))"
   ]
  },
  {
   "cell_type": "markdown",
   "metadata": {},
   "source": [
    "## OLS - recall vs boundary size"
   ]
  },
  {
   "cell_type": "code",
   "execution_count": null,
   "metadata": {},
   "outputs": [],
   "source": [
    "dat = tradeoff_stats[tradeoff_stats['total_boundary_size'] <= max_boundary_size]\n",
    "model = sm.OLS(dat['recall'].values, sm.add_constant(dat['total_boundary_size'].values)).fit()\n",
    "print(model.summary())"
   ]
  }
 ],
 "metadata": {
  "kernelspec": {
   "display_name": "Python 3",
   "language": "python",
   "name": "python3"
  },
  "language_info": {
   "codemirror_mode": {
    "name": "ipython",
    "version": 3
   },
   "file_extension": ".py",
   "mimetype": "text/x-python",
   "name": "python",
   "nbconvert_exporter": "python",
   "pygments_lexer": "ipython3",
   "version": "3.6.2"
  }
 },
 "nbformat": 4,
 "nbformat_minor": 2
}
